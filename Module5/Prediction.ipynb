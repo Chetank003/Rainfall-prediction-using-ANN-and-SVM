{
 "cells": [
  {
   "cell_type": "code",
   "execution_count": 1,
   "metadata": {},
   "outputs": [
    {
     "name": "stdout",
     "output_type": "stream",
     "text": [
      "Temperature(C):25\n",
      "Pressure(mB):30\n",
      "Humidity(%):30\n",
      "Cloud cover(%):50\n",
      "Wind speed(mph):80\n",
      "Wind Direction:2\n",
      "Precipitations(mm): 0.3735848959435211\n"
     ]
    }
   ],
   "source": [
    "import pandas as pd\n",
    "from joblib import dump,load\n",
    "\n",
    "\n",
    "clf=load('svm.model')\n",
    "\n",
    "x1=int(input('Temperature(C):'))\n",
    "x2=int(input('Pressure(mB):'))\n",
    "x3=int(input('Humidity(%):'))\n",
    "x4=int(input('Cloud cover(%):'))\n",
    "x5=int(input('Wind speed(mph):'))\n",
    "x6=int(input('Wind Direction:'))\n",
    "\n",
    "input_value = [{'temp(c)': x1, 'pressure(mb)': x2, 'humidity()': x3, 'cloud cover()': x4, 'wind speed(mph)': x5, 'wind dir.':x6}]\n",
    "X_test = pd.DataFrame(input_value)\n",
    "\n",
    "predictions = clf.predict(X_test)\n",
    "print(\"Precipitations(mm):\",predictions[0])"
   ]
  }
 ],
 "metadata": {
  "kernelspec": {
   "display_name": "Python 3",
   "language": "python",
   "name": "python3"
  },
  "language_info": {
   "codemirror_mode": {
    "name": "ipython",
    "version": 3
   },
   "file_extension": ".py",
   "mimetype": "text/x-python",
   "name": "python",
   "nbconvert_exporter": "python",
   "pygments_lexer": "ipython3",
   "version": "3.7.0"
  }
 },
 "nbformat": 4,
 "nbformat_minor": 2
}
