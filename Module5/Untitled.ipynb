{
 "cells": [
  {
   "cell_type": "code",
   "execution_count": 7,
   "metadata": {},
   "outputs": [
    {
     "name": "stdout",
     "output_type": "stream",
     "text": [
      "9 45\n",
      "993 1022\n",
      "4.0 93.0\n",
      "0 100\n",
      "0 32\n",
      "1 16\n"
     ]
    }
   ],
   "source": [
    "import pandas as pd\n",
    "import numpy as np\n",
    "\n",
    "df=pd.read_csv('data1modify.csv')\n",
    "a=list(df.columns)\n",
    "temperature = df[a[0]]\n",
    "pressure = df[a[1]]\n",
    "humidity = df[a[2]]\n",
    "coverage = df[a[3]]\n",
    "speed = df[a[4]]\n",
    "direction = df[a[5]]\n",
    "print(min(temperature.values),max(temperature.values))\n",
    "print(min(pressure.values),max(pressure.values))\n",
    "print(min(humidity.values),max(humidity.values))\n",
    "print(min(coverage.values),max(coverage.values))\n",
    "print(min(speed.values),max(speed.values))\n",
    "print(min(direction.values),max(direction.values))"
   ]
  }
 ],
 "metadata": {
  "kernelspec": {
   "display_name": "Python 3",
   "language": "python",
   "name": "python3"
  },
  "language_info": {
   "codemirror_mode": {
    "name": "ipython",
    "version": 3
   },
   "file_extension": ".py",
   "mimetype": "text/x-python",
   "name": "python",
   "nbconvert_exporter": "python",
   "pygments_lexer": "ipython3",
   "version": "3.7.0"
  }
 },
 "nbformat": 4,
 "nbformat_minor": 2
}
